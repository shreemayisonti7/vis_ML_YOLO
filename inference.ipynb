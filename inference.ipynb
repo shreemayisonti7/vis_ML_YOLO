{
 "cells": [
  {
   "cell_type": "code",
   "execution_count": 1,
   "metadata": {},
   "outputs": [],
   "source": [
    "from ultralytics import YOLO\n",
    "import os\n",
    "import json"
   ]
  },
  {
   "cell_type": "code",
   "execution_count": 2,
   "metadata": {},
   "outputs": [
    {
     "data": {
      "text/plain": [
       "['iframe_0586.jpg', 'iframe_0592.jpg', 'iframe_0223.jpg']"
      ]
     },
     "execution_count": 2,
     "metadata": {},
     "output_type": "execute_result"
    }
   ],
   "source": [
    "model = YOLO(\"yolov8n.pt\")\n",
    "\n",
    "# Folder name of images to run inference\n",
    "image_folder = 'left_park2_sensor2_iframes'\n",
    "\n",
    "#Result master\n",
    "result_folder = 'results_park2_sensor2'\n",
    "#Result json under master\n",
    "result_json = 'results_park2_sensor2_json'\n",
    "#Result image under master\n",
    "result_image = 'results_park2_sensor2_images'\n",
    "\n",
    "filenames = os.listdir(image_folder)\n",
    "filenames[:3]"
   ]
  },
  {
   "cell_type": "code",
   "execution_count": null,
   "metadata": {},
   "outputs": [],
   "source": [
    "for file_name in filenames:\n",
    "    results = model(f'{image_folder}/{file_name}')\n",
    "    result = results[0]\n",
    "    json_object = json.dumps(result.tojson(), indent=4)\n",
    "    with open(f\"{result_folder}/{result_json}/{file_name.split('.')[0]}.json\", \"w\") as outfile:\n",
    "        outfile.write(json_object)\n",
    "    result.save(filename=f'{result_folder}/{result_image}/{file_name}')"
   ]
  },
  {
   "cell_type": "code",
   "execution_count": null,
   "metadata": {},
   "outputs": [],
   "source": []
  }
 ],
 "metadata": {
  "kernelspec": {
   "display_name": "base",
   "language": "python",
   "name": "python3"
  },
  "language_info": {
   "codemirror_mode": {
    "name": "ipython",
    "version": 3
   },
   "file_extension": ".py",
   "mimetype": "text/x-python",
   "name": "python",
   "nbconvert_exporter": "python",
   "pygments_lexer": "ipython3",
   "version": "3.11.5"
  }
 },
 "nbformat": 4,
 "nbformat_minor": 2
}
